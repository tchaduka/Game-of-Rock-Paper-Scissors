{
 "cells": [
  {
   "cell_type": "markdown",
   "metadata": {},
   "source": [
    "<b>Game of Rock, Paper, Scissors </b>\n",
    "\n",
    "Create a program where the user can play a game of rock, paper, scissors against a computer. Set a play choice (rock, paper, or scissors) for the computer player and during the program, request for the user to input their play choice.\n",
    "\n",
    "The rules in Rock, Paper, Scissors are:\n",
    "\n",
    "Rock beats scissors\n",
    "Scissors beats paper\n",
    "Paper beats rock\n",
    "If the user wins, then display \"You win!\" If they lose against the computer, then display \"You lose.\" If the computer and the user have the same play choice, display \"It's a draw.\""
   ]
  },
  {
   "cell_type": "code",
   "execution_count": 10,
   "metadata": {},
   "outputs": [],
   "source": [
    "import random"
   ]
  },
  {
   "cell_type": "code",
   "execution_count": 23,
   "metadata": {},
   "outputs": [
    {
     "name": "stdout",
     "output_type": "stream",
     "text": [
      "Arya enter a choice (rock, paper, scissors): rock\n"
     ]
    }
   ],
   "source": [
    "arya_action = input(\"Arya enter a choice (rock, paper, scissors): \")"
   ]
  },
  {
   "cell_type": "code",
   "execution_count": 27,
   "metadata": {},
   "outputs": [],
   "source": [
    "available_actions = [\"rock\", \"paper\", \"scissors\"]\n",
    "\n",
    "mea_action = random.choice(available_actions)"
   ]
  },
  {
   "cell_type": "code",
   "execution_count": 28,
   "metadata": {},
   "outputs": [
    {
     "name": "stdout",
     "output_type": "stream",
     "text": [
      "\n",
      " Arya's chose rock, Mea's chose rock.\n",
      "\n"
     ]
    }
   ],
   "source": [
    "print(f\"\\n Arya's chose {arya_action}, Mea's chose {mea_action}.\\n\")"
   ]
  },
  {
   "cell_type": "code",
   "execution_count": 29,
   "metadata": {},
   "outputs": [
    {
     "name": "stdout",
     "output_type": "stream",
     "text": [
      "You both selected rock. It's a tie!\n"
     ]
    }
   ],
   "source": [
    "if arya_action == mea_action:\n",
    "    print(f\"You both selected {arya_action}. It's a tie!\")\n",
    "elif arya_action == \"rock\":\n",
    "    if mea_action == \"scissors\":\n",
    "        print(\"Rock smashes scissors! Arya you won!\")\n",
    "    else:\n",
    "        print(\"Paper covers rock! Mea you won!\")\n",
    "elif arya_action == \"paper\":\n",
    "    if mea_action == \"rock\":\n",
    "        print(\"Paper covers rock! Arya you won!\")\n",
    "    else:\n",
    "        print(\"Scissors cuts paper! Mea you won.\")\n",
    "elif arya_action == \"scissors\":\n",
    "    if mea_action == \"paper\":\n",
    "        print(\"Scissors cuts paper! Arya You won!\")\n",
    "    else:\n",
    "        print(\"Rock smashes scissors! Mea You won!\")"
   ]
  }
 ],
 "metadata": {
  "kernelspec": {
   "display_name": "Python 3 (ipykernel)",
   "language": "python",
   "name": "python3"
  },
  "language_info": {
   "codemirror_mode": {
    "name": "ipython",
    "version": 3
   },
   "file_extension": ".py",
   "mimetype": "text/x-python",
   "name": "python",
   "nbconvert_exporter": "python",
   "pygments_lexer": "ipython3",
   "version": "3.9.13"
  }
 },
 "nbformat": 4,
 "nbformat_minor": 4
}
